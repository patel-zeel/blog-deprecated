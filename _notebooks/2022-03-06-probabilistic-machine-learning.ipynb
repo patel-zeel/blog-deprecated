{
 "cells": [
  {
   "cell_type": "markdown",
   "id": "f7020a82",
   "metadata": {},
   "source": [
    "# Probabilistic Machine Learning\n",
    "\n",
    "> A video lecture series from Prof. Philipp Hennig\n",
    "\n",
    "- toc: true \n",
    "- badges: true\n",
    "- comments: true\n",
    "- author: Zeel B Patel\n",
    "- categories: [ML]"
   ]
  },
  {
   "cell_type": "markdown",
   "id": "4b28bb36",
   "metadata": {},
   "source": [
    "## 1 - Introduction\n",
    "\n",
    "> An inference problem requires statements about the value of an unobserved (latent) variable x based on\n",
    "observations y which are related to x, but may not be sufficient to fully determine x. This requires a\n",
    "notion of uncertainty.\n",
    "\n",
    "We can define the following rules because $p(E) = 1$ for any event $E$.\n",
    "\n",
    "* Sum rule: $p(E) = p(E|A) + p(E|\\neg A)$    \n",
    "* Product rule: $p(E, A) = p(E|A)p(A) = p(A|E)p(E)$    \n",
    "* Bayes' theorem: $p(E|A) = \\frac{p(A|E)p(E)}{p(A)}$"
   ]
  }
 ],
 "metadata": {
  "kernelspec": {
   "display_name": "Python 3",
   "language": "python",
   "name": "python3"
  },
  "language_info": {
   "codemirror_mode": {
    "name": "ipython",
    "version": 3
   },
   "file_extension": ".py",
   "mimetype": "text/x-python",
   "name": "python",
   "nbconvert_exporter": "python",
   "pygments_lexer": "ipython3",
   "version": "3.8.12"
  }
 },
 "nbformat": 4,
 "nbformat_minor": 5
}
