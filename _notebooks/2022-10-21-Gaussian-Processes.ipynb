{
 "cells": [
  {
   "cell_type": "markdown",
   "id": "7b6020e7",
   "metadata": {},
   "source": [
    "# Gaussian Processes - A no-skip-math version\n",
    "> End-to-end math derivations for Gaussian process regression and classification\n",
    "\n",
    "- toc: true \n",
    "- badges: true\n",
    "- comments: true\n",
    "- author: Zeel B Patel\n",
    "- categories: [ML]"
   ]
  },
  {
   "cell_type": "code",
   "execution_count": 35,
   "id": "6c052daf",
   "metadata": {},
   "outputs": [],
   "source": [
    "import jax\n",
    "import jax.numpy as jnp\n",
    "\n",
    "from tinygp.kernels import ExpSquared\n",
    "\n",
    "import matplotlib.pyplot as plt"
   ]
  },
  {
   "cell_type": "markdown",
   "id": "72dfc485",
   "metadata": {},
   "source": [
    "## Regression\n",
    "\n",
    "In this post, we will consider the regression problem of finding a reasonable map $X \\to \\boldsymbol{y}$ along with uncertainty. We can do this in a simplest setting with Bayesian linear regression assuming a **M**ulti**V**ariate **N**ormal (MVN) prior $\\boldsymbol{\\theta} \\sim \\mathcal{N}(\\boldsymbol{\\mu}_\\theta, \\Sigma_\\theta)$ (why MVN? because $\\theta \\in (-\\infty, \\infty)$) and Normal likelihood $y \\sim \\mathcal{N}(\\boldsymbol{x}^T\\theta, \\sigma_n^2)$ with i.i.d. assumption.\n",
    "\n",
    "To start with Gaussian process regression, let us first focus on $\\boldsymbol{y}$ (and ignore $X$). We assume $\\boldsymbol{f}$ as a random variable and $\\boldsymbol{y}$ as a realization of $\\boldsymbol{f}$ with some noise. It would be a natural probabilistic assumption to assume $\\boldsymbol{f}$ to be MVN distributed since its range is $(-\\infty, \\infty)$. \n",
    "\n",
    "\\begin{equation}\n",
    "p(\\boldsymbol{f}) \\sim \\mathcal{N}(\\boldsymbol{m}_f, K_{ff})\n",
    "\\tag{prior}\n",
    "\\end{equation}\n",
    "\n",
    "Now, we need to bring in $X$ in a reasonable way to this formulation. A core assumption connecting $X$ with $\\boldsymbol{y}$ is the following:\n",
    "> if two inputs $\\boldsymbol{x}$ and $\\boldsymbol{x}'$ are close to each other (how to define the closeness? kernels!), corresponding $\\boldsymbol{y}$ and $\\boldsymbol{y}'$ are likely to be similar.\n",
    "\n",
    "We use something known as covariance function or kernel (later is more prevalent) to define this closeness. For example, RBF or squared exponential is a well-known kernel:\n",
    "\n",
    "\\begin{equation}\n",
    "k_{RBF}(\\boldsymbol{x}, \\boldsymbol{x}') = \\sigma^2 \\exp \\left(-{\\frac {\\|\\boldsymbol{x} -\\boldsymbol{x}' \\|^{2}}{2\\ell ^{2}}}\\right)\n",
    "\\tag{kernel}\n",
    "\\end{equation}"
   ]
  },
  {
   "cell_type": "code",
   "execution_count": 34,
   "id": "e5b7ac0b",
   "metadata": {},
   "outputs": [
    {
     "data": {
      "image/png": "[encoded data removed]",
      "text/plain": [
       "<Figure size 432x288 with 1 Axes>"
      ]
     },
     "metadata": {
      "needs_background": "light"
     },
     "output_type": "display_data"
    }
   ],
   "source": [
    "x = jnp.array(0.0).reshape(1, 1)\n",
    "x_prime = jnp.linspace(-5,5,100).reshape(-1, 1)\n",
    "\n",
    "plt.plot(x_prime, ExpSquared()(x_prime, x));\n",
    "plt.xlabel(\"$x'$\")\n",
    "plt.title(f\"$k(x,x')$ where $x={x[0][0]}$ and $x' \\in ${plt.xlim()}\");"
   ]
  },
  {
   "cell_type": "markdown",
   "id": "82608c9e",
   "metadata": {},
   "source": [
    "The plot above shows that value of $k(\\boldsymbol{x}, \\boldsymbol{x}')$ increases as $\\boldsymbol{x}'$ approaches $\\boldsymbol{x}$ and reduces as it moves far from $\\boldsymbol{x}$. Now, we will connect $X$ with $\\boldsymbol{f}$ (and thus with $\\boldsymbol{y}$) through kernel $k$ with two following assumptions:\n",
    "\n",
    "1. Diagonal entries of $K_{ff}$ represent variance of $f_i$, which can be represented by $k(\\boldsymbol{x}_i, \\boldsymbol{x}_i)$.\n",
    "2. Non-diagonal entries of $K_{ff}$ represent covariance between $f_i$ and $f_j$ and can be represented by $k(\\boldsymbol{x}_i, \\boldsymbol{x}_j)$.\n",
    "\n",
    "At this point, we have made everything clear about prior $p(\\boldsymbol{f}) \\sim \\mathcal{N}(\\boldsymbol{m}_f, K_{ff})$. Now, we will look at the likelihood. As mentioned earlier, $\\boldsymbol{y}$ is noisy realization of $f$ so the following likelihood would be a simple and natural choice.\n",
    "\n",
    "\\begin{equation}\n",
    "p(\\boldsymbol{y}|\\boldsymbol{f}) \\sim \\mathcal{N}(\\boldsymbol{f}, \\sigma_n^2I)\n",
    "\\tag{likelihood}\n",
    "\\end{equation}\n",
    "\n",
    "Till now, we followed bottom-up approach and defined prior and likelihood for this problem. Now we will explore the top-down approach. \n",
    "\n",
    "Our ultimate goal is derive $p(\\boldsymbol{y}^*|X^*,\\boldsymbol{y}, X)$ at new inputs $X^*$. This can be written as:\n",
    "\n",
    "\\begin{equation}\n",
    "p(\\boldsymbol{y}^*|X^*,\\boldsymbol{y}, X) = \\int p(\\boldsymbol{y}^*|\\boldsymbol{f}^*)p(\\boldsymbol{f}^*|X^*,\\boldsymbol{y}, X)d\\boldsymbol{f}^*\n",
    "\\tag{pred post new}\n",
    "\\end{equation}\n",
    "\n",
    "Here, $p(\\boldsymbol{f}^*|X^*,\\boldsymbol{y}, X)$ is the posterior distribution at inputs $X^*$. Once we derive posterior $p(\\boldsymbol{f}|\\boldsymbol{y},X)$, We can find $p(\\boldsymbol{f}^*|X^*,\\boldsymbol{y}, X)$ like following:\n",
    "\n",
    "\\begin{equation}\n",
    "p(\\boldsymbol{f}^*|X^*, \\boldsymbol{y}, X) = \\int p(\\boldsymbol{f}^*|X^*, \\boldsymbol{f}, X)p(\\boldsymbol{f}|\\boldsymbol{y}, X)d\\boldsymbol{f}\n",
    "\\tag{post new}\n",
    "\\end{equation}\n",
    "\n",
    "Here, $p(\\boldsymbol{f}^*|X^*, \\boldsymbol{f}, X)$ is a [conditional Gaussian distribution](https://en.wikipedia.org/wiki/Multivariate_normal_distribution#Conditional_distributions) with the following closed form:\n",
    "\n",
    "\\begin{equation}\n",
    "p(\\boldsymbol{f}^*|X^*, \\boldsymbol{f}, X) \\sim \\mathcal{N}(\\boldsymbol{m}_{f^*}+K_{f^*f}K_{ff}^{-1}(\\boldsymbol{f}-\\boldsymbol{m}_{f}), K_{f^*f^*} - K_{f^*f}K_{ff}^{-1}K_{ff^*})\n",
    "\\tag{cond}\n",
    "\\end{equation}\n",
    "\n",
    "Posterior $p(\\boldsymbol{f}|\\boldsymbol{y}, X)$ can be derived following \"Bayes' rule for Gaussians\" (section 2.2.6.2 in [pml book2](https://probml.github.io/pml-book/book2.html)):\n",
    "\n",
    "\\begin{equation}\n",
    "p(\\boldsymbol{f}|\\boldsymbol{y}, X) \\sim \\mathcal{N}(\\boldsymbol{m}_f + K_{ff}\\left(K_{ff}+\\sigma_n^2I\\right)^{-1}(\\boldsymbol{y} - \\boldsymbol{m}_f), K_{ff} - K_{ff}\\left(K_{ff} + \\sigma_n^2I\\right)^{-1}K_{ff})\n",
    "\\tag{post}\n",
    "\\end{equation}\n",
    "\n",
    "We can now substitute Eq. (post) and Eq. (cond) in Eq. (post new). The integral can be solved with using Eq. 2.90 in section 2.2.6.2 in [pml book2](https://probml.github.io/pml-book/book2.html) and also mentioned in Eq. (int gaussians) in Appendix.\n",
    "\n",
    "\\begin{align}\n",
    "p(\\boldsymbol{f}^*|X^*, \\boldsymbol{y}, X) &\\sim \\mathcal{N}(\\boldsymbol{\\mu}^*, \\Sigma^*)\\\\\n",
    "\\boldsymbol{\\mu}^* &= \\boldsymbol{m}_{f^*}+K_{f^*f}K_{ff}^{-1}(\\left[\\boldsymbol{m}_f + K_{ff}\\left(K_{ff}+\\sigma_n^2I\\right)^{-1}(\\boldsymbol{y} - \\boldsymbol{m}_f)\\right]-\\boldsymbol{m}_{f})\\\\\n",
    "&=\\boldsymbol{m}_{f^*}+K_{f^*f}K_{ff}^{-1}(K_{ff}\\left(K_{ff}+\\sigma_n^2I\\right)^{-1}(\\boldsymbol{y} - \\boldsymbol{m}_f))\\\\\n",
    "&=\\boldsymbol{m}_{f^*}+K_{f^*f}\\left(K_{ff}+\\sigma_n^2I\\right)^{-1}(\\boldsymbol{y} - \\boldsymbol{m}_f)\\\\\n",
    "\\\\\n",
    "\\Sigma^* &= K_{f^*f^*} - K_{f^*f}K_{ff}^{-1}K_{ff^*} + K_{f^*f}K_{ff}^{-1}\\left[K_{ff} - K_{ff}\\left(K_{ff} + \\sigma_n^2I\\right)^{-1}K_{ff}\\right]K_{ff}^{-1}K_{ff^*}\\\\\n",
    "&=K_{f^*f^*} - K_{f^*f}K_{ff}^{-1}K_{ff^*} + K_{f^*f}\\left[I - \\left(K_{ff} + \\sigma_n^2I\\right)^{-1}K_{ff}\\right]K_{ff}^{-1}K_{ff^*}\\\\\n",
    "&=K_{f^*f^*} - K_{f^*f}K_{ff}^{-1}K_{ff^*} + K_{f^*f}\\left[K_{ff}^{-1} - \\left(K_{ff} + \\sigma_n^2I\\right)^{-1}\\right]K_{ff^*}\\\\\n",
    "&=K_{f^*f^*} - K_{f^*f}K_{ff}^{-1}K_{ff^*} + K_{f^*f}K_{ff}^{-1}K_{ff^*} - K_{f^*f}\\left(K_{ff} + \\sigma_n^2I\\right)^{-1}K_{ff^*}\\\\\n",
    "&=K_{f^*f^*} - K_{f^*f}\\left(K_{ff} + \\sigma_n^2I\\right)^{-1}K_{ff^*}\\\\\n",
    "p(\\boldsymbol{f}^*|X^*, \\boldsymbol{y}, X) &\\sim \\mathcal{N}(\\boldsymbol{m}_{f^*}+K_{f^*f}\\left(K_{ff}+\\sigma_n^2I\\right)^{-1}(\\boldsymbol{y} - \\boldsymbol{m}_f), K_{f^*f^*} - K_{f^*f}\\left(K_{ff} + \\sigma_n^2I\\right)^{-1}K_{ff^*})\n",
    "\\end{align}\n",
    "\n",
    "Now, we are almost there. Plugging in the above formula in Eq. (pred post) and using known result in Eq. (int gaussians), we get the predictive posterior as following:\n",
    "\n",
    "\\begin{equation}\n",
    "p(\\boldsymbol{y}^*|X^*,\\boldsymbol{y}, X) \\sim \\mathcal{N}(\\boldsymbol{m}_{f^*}+K_{f^*f}\\left(K_{ff}+\\sigma_n^2I\\right)^{-1}(\\boldsymbol{y} - \\boldsymbol{m}_f), K_{f^*f^*} - K_{f^*f}\\left(K_{ff} + \\sigma_n^2I\\right)^{-1}K_{ff^*} + \\sigma_n^2I)\n",
    "\\end{equation}\n",
    "\n",
    "> Note: We did not exploit the special structure of likelihood variance $\\sigma_n^2I$ anywhere, so, these derivations hold true for full rank likelihood covariance matrices also.\n",
    "\n",
    "### Optimization\n",
    "\n",
    "We perform type-II likelihood estimation (in other words, minimize log marginal likelihood or evidence term). Our goal is to find optimal model $\\mathcal{M}$ represented by prior (or kernel) hyperparameters and likelihood hyperparameters. We can get the log marginal likelihood using Eq. (int gaussians):\n",
    "\n",
    "\\begin{align}\n",
    "p(\\boldsymbol{y}|X, \\mathcal{M}) &= \\int p(\\boldsymbol{y}|\\boldsymbol{f}) p(\\boldsymbol{f})d\\boldsymbol{f}\\\\\n",
    "&\\sim \\int \\mathcal{N}(\\boldsymbol{y}|\\boldsymbol{f}, \\sigma_n^2I) \\mathcal{N}(\\boldsymbol{f}|\\boldsymbol{m}_f, K_{ff})\\\\\n",
    "&\\sim \\mathcal{N}(\\boldsymbol{y}|\\boldsymbol{m}_f, K_{ff}+\\sigma_n^2I)\n",
    "\\end{align}\n",
    "\n",
    "For case of RBF kernel, $\\mathcal{M}$ parameters will be $\\{\\sigma, \\ell, \\sigma_n\\}$."
   ]
  },
  {
   "cell_type": "markdown",
   "id": "91d22415",
   "metadata": {},
   "source": [
    "## Classification (with Laplace approximation)"
   ]
  },
  {
   "cell_type": "markdown",
   "id": "71d9576d",
   "metadata": {},
   "source": [
    "We will derive a GP predictive posterior for binary case only because for multi-class, it gets a bit complex. Our assumption for prior over the $\\boldsymbol{f}$ can still be the same but likelihood needs to be changed because $\\boldsymbol{y}$ is no more a real number but rather a binary value e.g. 0 or 1. From Bayesian point-of-view, Bernoulli likelihood would be the most appropriate as a likelihood here:\n",
    "\n",
    "\\begin{equation}\n",
    "p(\\boldsymbol{y}|\\boldsymbol{f}) = \\prod_{i=1}^{N} \\sigma(f_i)^{y_i=1}(1-\\sigma(f_i))^{y_i=0}\n",
    "\\tag{class likelihood}\n",
    "\\end{equation}\n",
    "\n",
    "Since, MVN prior and Bernoulli likelihood are not conjugate, we need to use an approximate method of inference here. We use Laplace approximation to get the MAP estimate $\\boldsymbol{\\hat{f}}$ and by computing the Hessian $H$ of negative log joint (log prior + log likelihood) with respect to $\\boldsymbol{\\hat{f}}$, we can get the posterior distribution as the following:\n",
    "\n",
    "\\begin{equation}\n",
    "p(\\boldsymbol{f}|\\boldsymbol{y}, X) \\sim \\mathcal{N}(\\boldsymbol{\\hat{f}}, H^{-1})\n",
    "\\tag{class post}\n",
    "\\end{equation}\n",
    "\n",
    "Eq. (cond) will be the same in this case, and thus, we can solve Eq. (post new) as we did for regression case, like the following:\n",
    "\n",
    "\\begin{equation}\n",
    "p(\\boldsymbol{f}^*|X^*, \\boldsymbol{y}, X) \\sim \\mathcal{N}(\\boldsymbol{m}_{f^*}+K_{f^*f}K_{ff}^{-1}(\\boldsymbol{\\hat{f}}-\\boldsymbol{m}_{f}), K_{f^*f^*} - K_{f^*f}K_{ff}^{-1}K_{ff^*} + K_{f^*f}K_{ff}^{-1}H^{-1}K_{ff}^{-1}K_{ff^*})\n",
    "\\end{equation}\n",
    "\n",
    "### Optimization\n",
    "\n",
    "To perform Type-II likelihood estimation for binary classification, we first need to derive the log marginal likelihood which can be approximated with Laplace approximation. First, we define the following quantity:\n",
    "\n",
    "\\begin{equation}\n",
    "\\boldsymbol{\\psi}(\\boldsymbol{f}) \\triangleq \\log p(\\boldsymbol{y}|\\boldsymbol{f}) + \\log p(\\boldsymbol{f})\n",
    "\\end{equation}\n",
    "\n",
    "Now, computing the log marginal likelihood as suggested in section 3.4.4 of [GPML book](https://gaussianprocess.org/gpml/chapters/RW.pdf):\n",
    "\n",
    "\\begin{align}\n",
    "\\log p(\\boldsymbol{y}|X, \\mathcal{M}) &\\sim \\int p(\\boldsymbol{y}|\\boldsymbol{f}) p(\\boldsymbol{f})d\\boldsymbol{f}\\\\\n",
    "&= \\log \\int \\exp\\left(\\boldsymbol{\\psi}(\\boldsymbol{f})\\right)d\\boldsymbol{f}\\\\\n",
    "&\\thickapprox \\log \\int \\exp\\left(\\boldsymbol{\\psi}(\\boldsymbol{\\hat{f}}) -\\frac{1}{2}(\\mathbf{f}-\\hat{\\mathbf{f}})^{\\top} H(\\mathbf{f}-\\hat{\\mathbf{f}})\\right)d\\boldsymbol{f}\\\\\n",
    "&= \\log \\exp \\boldsymbol{\\psi}(\\boldsymbol{\\hat{f}}) \\int exp\\left(-\\frac{1}{2}(\\mathbf{f}-\\hat{\\mathbf{f}})^{\\top} H(\\mathbf{f}-\\hat{\\mathbf{f}})\\right)d\\boldsymbol{f}\\\\\n",
    "&= \\log p(\\boldsymbol{y}|\\boldsymbol{\\hat{f}}) + \\log p(\\boldsymbol{\\hat{f}}) - \\frac{N}{2}\\log(2\\pi) - \\frac{1}{2}\\log|H^{-1}|\\\\\n",
    "&= \\log p(\\boldsymbol{y}|\\boldsymbol{\\hat{f}}) -\\frac{1}{2}\\boldsymbol{\\hat{f}}^TK_{ff}^{-1}\\boldsymbol{\\hat{f}} - \\frac{1}{2}\\log|K_{ff}| - \\frac{N}{2}\\log(2\\pi) - \\frac{1}{2}\\log|H^{-1}| - \\frac{N}{2}\\log(2\\pi)\n",
    "\\end{align}\n",
    "\n",
    "Our final optimization algorithm would be as following:\n",
    "1. For N iterations do 2. to 4.\n",
    "2. Optimize for $\\boldsymbol{\\hat{f}}$ with M iterations using standard MAP estimation (maybe use non-centered parametrization).\n",
    "3. Compute gradient of parameters of $\\mathcal{M}$ w.r.t. log marginal likelihood\n",
    "4. Update parameters of $\\mathcal{M}$."
   ]
  },
  {
   "cell_type": "markdown",
   "id": "644880e8",
   "metadata": {},
   "source": [
    "## Appendix\n",
    "\n",
    "\\begin{equation}\n",
    "\\int \\mathcal{N}(\\boldsymbol{y}|W\\boldsymbol{x}+\\boldsymbol{b}, \\Sigma) \\mathcal{N}(\\boldsymbol{x}|\\boldsymbol{\\mu}, K) = \\mathcal{N}(\\boldsymbol{y}|W\\boldsymbol{\\mu}+b, WKW^T+\\Sigma)\n",
    "\\tag{int gaussians}\n",
    "\\end{equation}"
   ]
  }
 ],
 "metadata": {
  "kernelspec": {
   "display_name": "Python [conda env:ajax]",
   "language": "python",
   "name": "conda-env-ajax-py"
  },
  "language_info": {
   "codemirror_mode": {
    "name": "ipython",
    "version": 3
   },
   "file_extension": ".py",
   "mimetype": "text/x-python",
   "name": "python",
   "nbconvert_exporter": "python",
   "pygments_lexer": "ipython3",
   "version": "3.9.12"
  }
 },
 "nbformat": 4,
 "nbformat_minor": 5
}
