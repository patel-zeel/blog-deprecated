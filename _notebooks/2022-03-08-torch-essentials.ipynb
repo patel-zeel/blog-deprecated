{
 "cells": [
  {
   "cell_type": "markdown",
   "id": "c658caa4",
   "metadata": {},
   "source": [
    "# Torch essentials\n",
    "> Practical and direct introduction to PyTorch\n",
    "\n",
    "- toc: true \n",
    "- badges: true\n",
    "- comments: true\n",
    "- author: Zeel B Patel\n",
    "- categories: [ML]\n",
    "\n",
    "## Zen of PyTorch\n",
    "\n",
    "* Give the power to user"
   ]
  },
  {
   "cell_type": "markdown",
   "id": "84ae2f82",
   "metadata": {},
   "source": [
    "## Let's go hands-on"
   ]
  },
  {
   "cell_type": "code",
   "execution_count": 1,
   "id": "6a7e843f",
   "metadata": {},
   "outputs": [],
   "source": [
    "import torch\n",
    "import numpy as np"
   ]
  },
  {
   "cell_type": "code",
   "execution_count": 2,
   "id": "df4e6953",
   "metadata": {},
   "outputs": [
    {
     "data": {
      "text/plain": [
       "tensor([1., 2., 3.])"
      ]
     },
     "metadata": {},
     "output_type": "display_data"
    },
    {
     "data": {
      "text/plain": [
       "tensor([5., 6., 7.], dtype=torch.float64)"
      ]
     },
     "metadata": {},
     "output_type": "display_data"
    }
   ],
   "source": [
    "tensor1 = torch.tensor([1,2,3.], dtype=torch.float32)\n",
    "tensor2 = torch.tensor([5,6,7.], dtype=torch.float64)\n",
    "display(tensor1, tensor2)"
   ]
  },
  {
   "cell_type": "code",
   "execution_count": 3,
   "id": "68856920",
   "metadata": {},
   "outputs": [
    {
     "data": {
      "text/plain": [
       "torch.Tensor"
      ]
     },
     "metadata": {},
     "output_type": "display_data"
    },
    {
     "data": {
      "text/plain": [
       "torch.Tensor"
      ]
     },
     "metadata": {},
     "output_type": "display_data"
    }
   ],
   "source": [
    "display(type(tensor1), type(tensor2))"
   ]
  },
  {
   "cell_type": "code",
   "execution_count": 4,
   "id": "311f2051",
   "metadata": {},
   "outputs": [
    {
     "data": {
      "text/plain": [
       "torch.float32"
      ]
     },
     "metadata": {},
     "output_type": "display_data"
    },
    {
     "data": {
      "text/plain": [
       "torch.float64"
      ]
     },
     "metadata": {},
     "output_type": "display_data"
    }
   ],
   "source": [
    "display(tensor1.dtype, tensor2.dtype)"
   ]
  },
  {
   "cell_type": "code",
   "execution_count": 5,
   "id": "47bd0ac7",
   "metadata": {},
   "outputs": [
    {
     "data": {
      "text/plain": [
       "tensor([1, 2, 3], dtype=torch.int32)"
      ]
     },
     "metadata": {},
     "output_type": "display_data"
    }
   ],
   "source": [
    "long_tensor = tensor1.to(torch.int32) # device, dtype, tensor\n",
    "display(long_tensor)"
   ]
  },
  {
   "cell_type": "code",
   "execution_count": 6,
   "id": "22e155b5",
   "metadata": {},
   "outputs": [
    {
     "data": {
      "text/plain": [
       "device(type='cpu')"
      ]
     },
     "execution_count": 6,
     "metadata": {},
     "output_type": "execute_result"
    }
   ],
   "source": [
    "long_tensor.device"
   ]
  },
  {
   "cell_type": "code",
   "execution_count": 7,
   "id": "4b5d675e",
   "metadata": {},
   "outputs": [
    {
     "data": {
      "text/plain": [
       "tensor([1, 2, 3], device='cuda:0', dtype=torch.int32)"
      ]
     },
     "execution_count": 7,
     "metadata": {},
     "output_type": "execute_result"
    }
   ],
   "source": [
    "device = 'cuda' if torch.cuda.is_available() else 'cpu'\n",
    "long_tensor_gpu = long_tensor.to(device)\n",
    "long_tensor_gpu"
   ]
  },
  {
   "cell_type": "code",
   "execution_count": 8,
   "id": "0fef65b0",
   "metadata": {},
   "outputs": [
    {
     "data": {
      "text/plain": [
       "tensor([[0., 0., 0., 0., 0., 0., 0., 0., 0., 0.],\n",
       "        [0., 0., 0., 0., 0., 0., 0., 0., 0., 0.]], device='cuda:0',\n",
       "       dtype=torch.float64)"
      ]
     },
     "execution_count": 8,
     "metadata": {},
     "output_type": "execute_result"
    }
   ],
   "source": [
    "long_tensor_born_on_gpu = torch.zeros(2,10, device=device).to(torch.float64)\n",
    "long_tensor_born_on_gpu"
   ]
  },
  {
   "cell_type": "code",
   "execution_count": 9,
   "id": "f6fe4ced",
   "metadata": {},
   "outputs": [
    {
     "data": {
      "text/plain": [
       "tensor([1., 2.], device='cuda:0', dtype=torch.float64)"
      ]
     },
     "execution_count": 9,
     "metadata": {},
     "output_type": "execute_result"
    }
   ],
   "source": [
    "inspired_tensor = torch.tensor([1.,2.]).to(long_tensor_born_on_gpu)\n",
    "inspired_tensor"
   ]
  },
  {
   "cell_type": "code",
   "execution_count": 10,
   "id": "58394c06",
   "metadata": {},
   "outputs": [
    {
     "ename": "AttributeError",
     "evalue": "'numpy.ndarray' object has no attribute 'log'",
     "output_type": "error",
     "traceback": [
      "\u001b[0;31m---------------------------------------------------------------------------\u001b[0m",
      "\u001b[0;31mAttributeError\u001b[0m                            Traceback (most recent call last)",
      "\u001b[0;32m/tmp/ipykernel_7181/236375699.py\u001b[0m in \u001b[0;36m<module>\u001b[0;34m\u001b[0m\n\u001b[1;32m      1\u001b[0m \u001b[0mnp_array\u001b[0m \u001b[0;34m=\u001b[0m \u001b[0mnp\u001b[0m\u001b[0;34m.\u001b[0m\u001b[0marray\u001b[0m\u001b[0;34m(\u001b[0m\u001b[0;34m[\u001b[0m\u001b[0;36m1\u001b[0m\u001b[0;34m,\u001b[0m\u001b[0;36m2\u001b[0m\u001b[0;34m,\u001b[0m\u001b[0;36m3.\u001b[0m\u001b[0;34m]\u001b[0m\u001b[0;34m)\u001b[0m\u001b[0;34m\u001b[0m\u001b[0;34m\u001b[0m\u001b[0m\n\u001b[0;32m----> 2\u001b[0;31m \u001b[0mnp_array\u001b[0m\u001b[0;34m.\u001b[0m\u001b[0mlog\u001b[0m\u001b[0;34m(\u001b[0m\u001b[0;34m)\u001b[0m\u001b[0;34m\u001b[0m\u001b[0;34m\u001b[0m\u001b[0m\n\u001b[0m",
      "\u001b[0;31mAttributeError\u001b[0m: 'numpy.ndarray' object has no attribute 'log'"
     ]
    }
   ],
   "source": [
    "np_array = np.array([1,2,3.])\n",
    "np_array.log()"
   ]
  },
  {
   "cell_type": "code",
   "execution_count": 11,
   "id": "c3d6a90d",
   "metadata": {},
   "outputs": [
    {
     "data": {
      "text/plain": [
       "tensor([0.0000, 0.6931, 1.0986])"
      ]
     },
     "execution_count": 11,
     "metadata": {},
     "output_type": "execute_result"
    }
   ],
   "source": [
    "pt_array = torch.tensor([1,2,3.])\n",
    "pt_array.log() # sin(), cos(), tan(), exp()"
   ]
  },
  {
   "cell_type": "markdown",
   "id": "2b7abf75",
   "metadata": {},
   "source": [
    "## Gradient is all you need"
   ]
  },
  {
   "cell_type": "code",
   "execution_count": 12,
   "id": "a290c5bb",
   "metadata": {},
   "outputs": [],
   "source": [
    "import matplotlib.pyplot as plt"
   ]
  },
  {
   "cell_type": "code",
   "execution_count": 13,
   "id": "4d891c1f",
   "metadata": {},
   "outputs": [
    {
     "data": {
      "image/png": "[encoded data removed]",
      "text/plain": [
       "<Figure size 432x288 with 1 Axes>"
      ]
     },
     "metadata": {
      "needs_background": "light"
     },
     "output_type": "display_data"
    }
   ],
   "source": [
    "x = torch.rand(5,1)\n",
    "y = 3 * x + 2 + torch.randn_like(x)*0.1\n",
    "\n",
    "plt.scatter(x, y);"
   ]
  },
  {
   "cell_type": "code",
   "execution_count": 31,
   "id": "9b151811",
   "metadata": {},
   "outputs": [
    {
     "data": {
      "text/plain": [
       "torch.Size([5, 2])"
      ]
     },
     "execution_count": 31,
     "metadata": {},
     "output_type": "execute_result"
    }
   ],
   "source": [
    "x_plus_ones = torch.cat([torch.ones_like(x), x], dim=1)\n",
    "x_plus_ones.shape"
   ]
  },
  {
   "cell_type": "code",
   "execution_count": 32,
   "id": "4877019d",
   "metadata": {},
   "outputs": [
    {
     "data": {
      "text/plain": [
       "tensor([[0.],\n",
       "        [0.]], requires_grad=True)"
      ]
     },
     "execution_count": 32,
     "metadata": {},
     "output_type": "execute_result"
    }
   ],
   "source": [
    "theta = torch.zeros(2,1, requires_grad=True)\n",
    "theta"
   ]
  },
  {
   "cell_type": "code",
   "execution_count": 33,
   "id": "7a15800a",
   "metadata": {},
   "outputs": [],
   "source": [
    "theta.grad"
   ]
  },
  {
   "cell_type": "code",
   "execution_count": 34,
   "id": "1017690a",
   "metadata": {},
   "outputs": [],
   "source": [
    "theta.grad_fn"
   ]
  },
  {
   "cell_type": "code",
   "execution_count": 35,
   "id": "b1176f71",
   "metadata": {},
   "outputs": [],
   "source": [
    "lr = 0.1\n",
    "\n",
    "y_pred = x_plus_ones@theta\n",
    "loss = ((y_pred - y)**2).mean()\n",
    "loss.backward()\n",
    "# y_pred = torch.matmul(x_plus_ones, theta)\n",
    "# y_pred = torch.mm(x_plus_ones, theta)"
   ]
  },
  {
   "cell_type": "code",
   "execution_count": 36,
   "id": "e6198ff1",
   "metadata": {},
   "outputs": [
    {
     "data": {
      "text/plain": [
       "tensor([[-6.3681],\n",
       "        [-2.8128]])"
      ]
     },
     "execution_count": 36,
     "metadata": {},
     "output_type": "execute_result"
    }
   ],
   "source": [
    "theta.grad # dloss/dtheta"
   ]
  },
  {
   "cell_type": "code",
   "execution_count": 37,
   "id": "800f49e0",
   "metadata": {},
   "outputs": [],
   "source": [
    "theta.grad_fn"
   ]
  },
  {
   "cell_type": "code",
   "execution_count": 38,
   "id": "52d20b76",
   "metadata": {},
   "outputs": [],
   "source": [
    "theta.data -= lr * theta.grad.data"
   ]
  },
  {
   "cell_type": "code",
   "execution_count": 39,
   "id": "63199587",
   "metadata": {},
   "outputs": [
    {
     "data": {
      "text/plain": [
       "tensor([[0.6368],\n",
       "        [0.2813]], requires_grad=True)"
      ]
     },
     "execution_count": 39,
     "metadata": {},
     "output_type": "execute_result"
    }
   ],
   "source": [
    "theta"
   ]
  },
  {
   "cell_type": "code",
   "execution_count": 40,
   "id": "dbf9177a",
   "metadata": {},
   "outputs": [],
   "source": [
    "theta.grad_fn"
   ]
  },
  {
   "cell_type": "code",
   "execution_count": 41,
   "id": "11e2304c",
   "metadata": {
    "scrolled": true
   },
   "outputs": [
    {
     "data": {
      "image/png": "[encoded data removed]",
      "text/plain": [
       "<Figure size 432x288 with 1 Axes>"
      ]
     },
     "metadata": {
      "needs_background": "light"
     },
     "output_type": "display_data"
    }
   ],
   "source": [
    "with torch.no_grad():\n",
    "    plt.scatter(x, y)\n",
    "    plt.plot(x, x_plus_ones@theta)"
   ]
  },
  {
   "cell_type": "code",
   "execution_count": 42,
   "id": "4088adca",
   "metadata": {
    "scrolled": true
   },
   "outputs": [],
   "source": [
    "for i in range(10):\n",
    "    theta.grad.data.zero_()\n",
    "    y_pred = x_plus_ones@theta\n",
    "    loss = ((y_pred - y)**2).mean()\n",
    "    loss.backward()\n",
    "    theta.data -= lr * theta.grad"
   ]
  },
  {
   "cell_type": "code",
   "execution_count": 43,
   "id": "1faf0e46",
   "metadata": {
    "scrolled": true
   },
   "outputs": [
    {
     "data": {
      "image/png": "[encoded data removed]",
      "text/plain": [
       "<Figure size 432x288 with 1 Axes>"
      ]
     },
     "metadata": {
      "needs_background": "light"
     },
     "output_type": "display_data"
    }
   ],
   "source": [
    "with torch.no_grad():\n",
    "    plt.scatter(x, y)\n",
    "    plt.plot(x, x_plus_ones@theta)"
   ]
  },
  {
   "cell_type": "markdown",
   "id": "ea2e5455",
   "metadata": {},
   "source": [
    "## Advanced"
   ]
  },
  {
   "cell_type": "code",
   "execution_count": 56,
   "id": "40184595",
   "metadata": {},
   "outputs": [],
   "source": [
    "class LinearRegression(torch.nn.Module):\n",
    "    def __init__(self):\n",
    "        super().__init__()\n",
    "        self.theta = torch.nn.Parameter(torch.zeros(2,1))\n",
    "#         self.register_parameter(theta, torch.zeros(2,1))\n",
    "    \n",
    "    def forward(self, x): # Don't call directly. it is called by __call__ method\n",
    "        x_plus_ones = torch.cat([torch.ones_like(x), x], dim=1)\n",
    "        y_pred = x_plus_ones@self.theta\n",
    "        return y_pred"
   ]
  },
  {
   "cell_type": "code",
   "execution_count": 57,
   "id": "0598c1e8",
   "metadata": {},
   "outputs": [
    {
     "data": {
      "text/plain": [
       "LinearRegression()"
      ]
     },
     "execution_count": 57,
     "metadata": {},
     "output_type": "execute_result"
    }
   ],
   "source": [
    "model = LinearRegression()\n",
    "model"
   ]
  },
  {
   "cell_type": "code",
   "execution_count": 58,
   "id": "b1d8d5af",
   "metadata": {},
   "outputs": [
    {
     "name": "stdout",
     "output_type": "stream",
     "text": [
      "theta Parameter containing:\n",
      "tensor([[0.],\n",
      "        [0.]], requires_grad=True)\n"
     ]
    }
   ],
   "source": [
    "for name, value in model.named_parameters():\n",
    "    print(name, value)"
   ]
  },
  {
   "cell_type": "code",
   "execution_count": 59,
   "id": "115c2830",
   "metadata": {},
   "outputs": [],
   "source": [
    "optimizer = torch.optim.Adam(model.parameters(), lr=0.1)\n",
    "loss_fn = torch.nn.MSELoss() # torch.nn.CrossEntropyLoss()\n",
    "\n",
    "for i in range(10):\n",
    "    optimizer.zero_grad()\n",
    "    \n",
    "    y_pred = model(x)\n",
    "    loss = loss_fn(y_pred, y)\n",
    "    loss.backward()\n",
    "    \n",
    "    optimizer.step()"
   ]
  },
  {
   "cell_type": "code",
   "execution_count": 62,
   "id": "a19b4440",
   "metadata": {},
   "outputs": [
    {
     "data": {
      "text/plain": [
       "OrderedDict([('theta',\n",
       "              tensor([[0.9799],\n",
       "                      [0.9808]]))])"
      ]
     },
     "execution_count": 62,
     "metadata": {},
     "output_type": "execute_result"
    }
   ],
   "source": [
    "model.state_dict()"
   ]
  },
  {
   "cell_type": "markdown",
   "id": "14b3a673",
   "metadata": {},
   "source": [
    "## Wanna run on GPU?"
   ]
  },
  {
   "cell_type": "code",
   "execution_count": 65,
   "id": "ae945643",
   "metadata": {},
   "outputs": [],
   "source": [
    "x_gpu = x.to(device)\n",
    "y_gpu = y.to(device)"
   ]
  },
  {
   "cell_type": "code",
   "execution_count": 66,
   "id": "73e60ca6",
   "metadata": {},
   "outputs": [
    {
     "name": "stdout",
     "output_type": "stream",
     "text": [
      "Parameter containing:\n",
      "tensor([[0.9799],\n",
      "        [0.9808]], requires_grad=True)\n",
      "Parameter containing:\n",
      "tensor([[0.9799],\n",
      "        [0.9808]], device='cuda:0', requires_grad=True)\n"
     ]
    }
   ],
   "source": [
    "print(model.theta)\n",
    "model.to(device)\n",
    "print(model.theta)"
   ]
  },
  {
   "cell_type": "code",
   "execution_count": 67,
   "id": "fc812c23",
   "metadata": {},
   "outputs": [],
   "source": [
    "optimizer = torch.optim.Adam(model.parameters(), lr=0.1)\n",
    "loss_fn = torch.nn.MSELoss() # torch.nn.CrossEntropyLoss()\n",
    "\n",
    "for i in range(10):\n",
    "    optimizer.zero_grad()\n",
    "    \n",
    "    y_pred = model(x_gpu)\n",
    "    loss = loss_fn(y_pred, y_gpu)\n",
    "    loss.backward()\n",
    "    \n",
    "    optimizer.step()"
   ]
  },
  {
   "cell_type": "markdown",
   "id": "3d16e3b1",
   "metadata": {},
   "source": [
    "## State dictionary"
   ]
  },
  {
   "cell_type": "code",
   "execution_count": 68,
   "id": "28c4e57a",
   "metadata": {},
   "outputs": [],
   "source": [
    "# torch.save(model.state_dict(), path)\n",
    "# model.load_state_dict(torch.load(path))"
   ]
  },
  {
   "cell_type": "markdown",
   "id": "4ed484ab",
   "metadata": {},
   "source": [
    "## NN way"
   ]
  },
  {
   "cell_type": "code",
   "execution_count": 69,
   "id": "46f2aba6",
   "metadata": {},
   "outputs": [],
   "source": [
    "class LinearRegression(torch.nn.Module):\n",
    "    def __init__(self):\n",
    "        super().__init__()\n",
    "        self.layer = torch.nn.Linear(2, 1) # torch.nn.Linear(128, 64)\n",
    "        # What else? \n",
    "#         self.activation = torch.nn.ReLU()\n",
    "#         torch.nn.LSTM()\n",
    "#         torch.nn.Conv2d()\n",
    "    \n",
    "    def forward(self, x): # Don't call directly. it is called by __call__ method\n",
    "        x_plus_ones = torch.cat([torch.ones_like(x), x], dim=1)\n",
    "        y_pred = self.layer(x_plus_ones)\n",
    "        return y_pred"
   ]
  }
 ],
 "metadata": {
  "kernelspec": {
   "display_name": "Python 3",
   "language": "python",
   "name": "python3"
  },
  "language_info": {
   "codemirror_mode": {
    "name": "ipython",
    "version": 3
   },
   "file_extension": ".py",
   "mimetype": "text/x-python",
   "name": "python",
   "nbconvert_exporter": "python",
   "pygments_lexer": "ipython3",
   "version": "3.8.12"
  }
 },
 "nbformat": 4,
 "nbformat_minor": 5
}
