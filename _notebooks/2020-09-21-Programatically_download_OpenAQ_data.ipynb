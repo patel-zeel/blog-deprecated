{
 "cells": [
  {
   "cell_type": "markdown",
   "metadata": {
    "id": "zkwBPnFPo7zo"
   },
   "source": [
    "# \"Programatically download OpenAQ data\"\n",
    "> \"Programatically download OpenAQ data\"\n",
    "\n",
    "- toc:true\n",
    "- branch: main\n",
    "- badges: true\n",
    "- comments: true\n",
    "- image: images/openaq.png\n",
    "- author: Zeel B Patel\n",
    "- categories: [data, openaq]"
   ]
  },
  {
   "cell_type": "code",
   "execution_count": 1,
   "metadata": {
    "id": "H37tgGm5I-8d"
   },
   "outputs": [],
   "source": [
    "# uncomment to install these libraries\n",
    "# !pip install boto3 botocore\n",
    "\n",
    "import pandas as pd\n",
    "import numpy as np\n",
    "import matplotlib.pyplot as plt\n",
    "import sys\n",
    "import boto3\n",
    "import botocore\n",
    "import os\n",
    "from IPython.display import clear_output"
   ]
  },
  {
   "cell_type": "markdown",
   "metadata": {
    "id": "qlILCY10JDE_"
   },
   "source": [
    "## Setup"
   ]
  },
  {
   "cell_type": "code",
   "execution_count": 2,
   "metadata": {
    "id": "853wrtHbLZ34"
   },
   "outputs": [],
   "source": [
    "s3 = boto3.client('s3', config=botocore.config.Config(signature_version=botocore.UNSIGNED))\n",
    "bucket_name = 'openaq-fetches'\n",
    "prefix = 'realtime-gzipped/'\n",
    "\n",
    "path = '/content/drive/MyDrive/IJCAI-21/data/OpenAQ-Delhi/'\n",
    "\n",
    "start_date = '2020/01/01' # start date (inclusive)\n",
    "end_date = '2020/12/31' # end date (inclusive)"
   ]
  },
  {
   "cell_type": "markdown",
   "metadata": {
    "id": "Fsp8un-tfgiJ"
   },
   "source": [
    "### Download"
   ]
  },
  {
   "cell_type": "code",
   "execution_count": null,
   "metadata": {
    "colab": {
     "base_uri": "https://localhost:8080/"
    },
    "id": "mP0m4rByR8H-",
    "outputId": "5057d010-8892-4164-f140-1b58449cf94e"
   },
   "outputs": [
    {
     "name": "stdout",
     "output_type": "stream",
     "text": [
      "Downloading: 2020-05-04\n"
     ]
    }
   ],
   "source": [
    "for date in pd.date_range(start=start_date, end=end_date):\n",
    "  clear_output(wait=True)\n",
    "  date = str(date).split(' ')[0] # keeping just YYYY-MM-DD from YYYY-MM-DD HH:MM:SS\n",
    "  print('Downloading:', date)\n",
    "  data_dict = s3.list_objects(Bucket = bucket_name, Prefix = prefix+date)\n",
    "  \n",
    "  for file_obj in data_dict['Contents']:\n",
    "    f_name = file_obj['Key']\n",
    "    tmp_path = '/'.join((path+f_name).split('/')[:-1])\n",
    "    \n",
    "    if not os.path.exists(tmp_path):\n",
    "      os.makedirs(tmp_path)\n",
    "    \n",
    "    s3.download_file(bucket_name, f_name, path+f_name)"
   ]
  },
  {
   "cell_type": "markdown",
   "metadata": {
    "id": "NLZx56yLfmNp"
   },
   "source": [
    "### Validate"
   ]
  },
  {
   "cell_type": "code",
   "execution_count": null,
   "metadata": {
    "id": "nkFdlFtVfkFh"
   },
   "outputs": [],
   "source": [
    "for date in pd.date_range(start=start_date, end=end_date):\n",
    "  date = str(date).split(' ')[0] # keeping just YYYY-MM-DD from YYYY-MM-DD HH:MM:SS\n",
    "  data_dict = s3.list_objects(Bucket = bucket_name, Prefix = prefix+date)\n",
    "  \n",
    "  for file_obj in data_dict['Contents']:\n",
    "    assert os.path.exists(path+file_obj['Key']), file_obj['Key']\n",
    "\n",
    "\n",
    "print('Validated')"
   ]
  },
  {
   "cell_type": "code",
   "execution_count": null,
   "metadata": {
    "id": "iA4CKW0Mf05x"
   },
   "outputs": [],
   "source": []
  }
 ],
 "metadata": {
  "colab": {
   "collapsed_sections": [],
   "name": "Programatically download OpenAQ data.ipynb",
   "provenance": []
  },
  "kernelspec": {
   "display_name": "Python 3",
   "language": "python",
   "name": "python3"
  },
  "language_info": {
   "codemirror_mode": {
    "name": "ipython",
    "version": 3
   },
   "file_extension": ".py",
   "mimetype": "text/x-python",
   "name": "python",
   "nbconvert_exporter": "python",
   "pygments_lexer": "ipython3",
   "version": "3.8.0"
  }
 },
 "nbformat": 4,
 "nbformat_minor": 1
}
