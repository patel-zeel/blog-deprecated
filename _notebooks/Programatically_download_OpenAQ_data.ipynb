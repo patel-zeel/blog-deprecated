{
  "nbformat": 4,
  "nbformat_minor": 0,
  "metadata": {
    "colab": {
      "name": "Programatically download OpenAQ data.ipynb",
      "provenance": [],
      "collapsed_sections": [],
      "mount_file_id": "1TFb_lmYQDQZhu2Ec__iRwmOTUQvJjKPm",
      "authorship_tag": "ABX9TyO0c5oB2MQPKjbPRCN3cT1N"
    },
    "kernelspec": {
      "name": "python3",
      "display_name": "Python 3"
    }
  },
  "cells": [
    {
      "cell_type": "markdown",
      "metadata": {
        "id": "zkwBPnFPo7zo"
      },
      "source": [
        "# \"Programatically download OpenAQ data\"\r\n",
        "> \"\"\r\n",
        "\r\n",
        "- toc:true- branch: master\r\n",
        "- badges: true\r\n",
        "- comments: true\r\n",
        "- author: Zeel B Patel\r\n",
        "- categories: [Data, OpenAQ]"
      ]
    },
    {
      "cell_type": "code",
      "metadata": {
        "id": "H37tgGm5I-8d"
      },
      "source": [
        "# uncomment to install these libraries\r\n",
        "# !pip install boto3 botocore\r\n",
        "\r\n",
        "import pandas as pd\r\n",
        "import numpy as np\r\n",
        "import matplotlib.pyplot as plt\r\n",
        "import sys\r\n",
        "import boto3\r\n",
        "import botocore\r\n",
        "import os\r\n",
        "from IPython.display import clear_output"
      ],
      "execution_count": 1,
      "outputs": []
    },
    {
      "cell_type": "markdown",
      "metadata": {
        "id": "qlILCY10JDE_"
      },
      "source": [
        "## Setup"
      ]
    },
    {
      "cell_type": "code",
      "metadata": {
        "id": "853wrtHbLZ34"
      },
      "source": [
        "s3 = boto3.client('s3', config=botocore.config.Config(signature_version=botocore.UNSIGNED))\r\n",
        "bucket_name = 'openaq-fetches'\r\n",
        "prefix = 'realtime-gzipped/'\r\n",
        "\r\n",
        "path = '/content/drive/MyDrive/IJCAI-21/data/OpenAQ-Delhi/'\r\n",
        "\r\n",
        "start_date = '2020/01/01' # start date (inclusive)\r\n",
        "end_date = '2020/12/31' # end date (inclusive)"
      ],
      "execution_count": 2,
      "outputs": []
    },
    {
      "cell_type": "markdown",
      "metadata": {
        "id": "Fsp8un-tfgiJ"
      },
      "source": [
        "### Download"
      ]
    },
    {
      "cell_type": "code",
      "metadata": {
        "colab": {
          "base_uri": "https://localhost:8080/"
        },
        "id": "mP0m4rByR8H-",
        "outputId": "5057d010-8892-4164-f140-1b58449cf94e"
      },
      "source": [
        "for date in pd.date_range(start=start_date, end=end_date):\r\n",
        "  clear_output(wait=True)\r\n",
        "  date = str(date).split(' ')[0] # keeping just YYYY-MM-DD from YYYY-MM-DD HH:MM:SS\r\n",
        "  print('Downloading:', date)\r\n",
        "  data_dict = s3.list_objects(Bucket = bucket_name, Prefix = prefix+date)\r\n",
        "  \r\n",
        "  for file_obj in data_dict['Contents']:\r\n",
        "    f_name = file_obj['Key']\r\n",
        "    tmp_path = '/'.join((path+f_name).split('/')[:-1])\r\n",
        "    \r\n",
        "    if not os.path.exists(tmp_path):\r\n",
        "      os.makedirs(tmp_path)\r\n",
        "    \r\n",
        "    s3.download_file(bucket_name, f_name, path+f_name)"
      ],
      "execution_count": null,
      "outputs": [
        {
          "output_type": "stream",
          "text": [
            "Downloading: 2020-03-27\n"
          ],
          "name": "stdout"
        }
      ]
    },
    {
      "cell_type": "markdown",
      "metadata": {
        "id": "NLZx56yLfmNp"
      },
      "source": [
        "### Validate"
      ]
    },
    {
      "cell_type": "code",
      "metadata": {
        "id": "nkFdlFtVfkFh"
      },
      "source": [
        "for date in pd.date_range(start=start_date, end=end_date):\r\n",
        "  date = str(date).split(' ')[0] # keeping just YYYY-MM-DD from YYYY-MM-DD HH:MM:SS\r\n",
        "  data_dict = s3.list_objects(Bucket = bucket_name, Prefix = prefix+date)\r\n",
        "  \r\n",
        "  for file_obj in data_dict['Contents']:\r\n",
        "    assert os.path.exists(path+file_obj['Key']), file_obj['Key']\r\n",
        "\r\n",
        "\r\n",
        "print('Validated')"
      ],
      "execution_count": null,
      "outputs": []
    },
    {
      "cell_type": "code",
      "metadata": {
        "id": "iA4CKW0Mf05x"
      },
      "source": [
        ""
      ],
      "execution_count": null,
      "outputs": []
    }
  ]
}