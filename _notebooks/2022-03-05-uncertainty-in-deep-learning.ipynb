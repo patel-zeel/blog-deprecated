{
 "cells": [
  {
   "cell_type": "markdown",
   "id": "7fbd90a3",
   "metadata": {},
   "source": [
    "# Uncertainty in Deep Learning\n",
    "> Review of PhD thesis of Dr. Yarin Gal\n",
    "\n",
    "- toc: true \n",
    "- badges: true\n",
    "- comments: true\n",
    "- author: Zeel B Patel\n",
    "- categories: [ML]\n",
    "\n",
    "[Blog link](https://www.cs.ox.ac.uk/people/yarin.gal/website/blog_2248.html)"
   ]
  },
  {
   "cell_type": "code",
   "execution_count": 1,
   "id": "4b596081",
   "metadata": {},
   "outputs": [],
   "source": [
    "import torch"
   ]
  },
  {
   "cell_type": "markdown",
   "id": "86d5eab0",
   "metadata": {},
   "source": [
    "## 1 - Introduction\n",
    "\n",
    "* [An online deep learning book](http://www.deeplearningbook.org/) from Ian Goodfellow, Yoshua Bengio, and Aaron Courville."
   ]
  },
  {
   "cell_type": "markdown",
   "id": "2f0b0f1a",
   "metadata": {},
   "source": [
    "### 1.1 - Deep Learning\n",
    "\n",
    "We define a single layer network as the following:"
   ]
  },
  {
   "cell_type": "code",
   "execution_count": 2,
   "id": "8a6f6055",
   "metadata": {},
   "outputs": [],
   "source": [
    "class SingleLayerNetwork(torch.nn.Module):\n",
    "    def __init__(self, Q, D, K):\n",
    "        \"\"\"\n",
    "        Q: number of features\n",
    "        D: number of outputs\n",
    "        K: number of hidden features\n",
    "        \"\"\"\n",
    "        super().__init__()\n",
    "        self.input = torch.nn.Linear(Q, K) # Transforms Q features into K hidden features\n",
    "        self.output = torch.nn.Linear(K, D) # Transforms K hidden features to D output features\n",
    "        self.non_lin_transform = torch.nn.ReLU() # A non-linear transformation\n",
    "        \n",
    "    def forward(self, X):\n",
    "        \"\"\"\n",
    "        X: input (N x Q)\n",
    "        \"\"\"\n",
    "        self.linear_transformed_X = self.input(X)  # (N, Q) -> (N, K)\n",
    "        self.non_lin_transformed_X = self.non_lin_transform(linear_transformed_X)  # (N, K) -> (N, K)\n",
    "        output = self.output(self.non_lin_transformed_X)  # (N, K) -> (N, D)\n",
    "        return output"
   ]
  },
  {
   "cell_type": "code",
   "execution_count": 3,
   "id": "e7833674",
   "metadata": {},
   "outputs": [],
   "source": [
    "Q = 10 # Number of features\n",
    "N = 100 # Number of samples\n",
    "D = 15 # Number of outputs\n",
    "K = 32 # Number of hidden features\n",
    "\n",
    "X = torch.rand(N, Q) # Input\n",
    "Y = torch.rand(N, D) # Output"
   ]
  },
  {
   "cell_type": "code",
   "execution_count": 4,
   "id": "f1cd6e6a",
   "metadata": {},
   "outputs": [
    {
     "data": {
      "text/plain": [
       "SingleLayerNetwork(\n",
       "  (input): Linear(in_features=10, out_features=32, bias=True)\n",
       "  (output): Linear(in_features=32, out_features=15, bias=True)\n",
       "  (non_lin_transform): ReLU()\n",
       ")"
      ]
     },
     "execution_count": 4,
     "metadata": {},
     "output_type": "execute_result"
    }
   ],
   "source": [
    "model = SingleLayerNetwork(Q=Q, D=D, K=K)\n",
    "model"
   ]
  },
  {
   "cell_type": "code",
   "execution_count": 5,
   "id": "8ff88788",
   "metadata": {},
   "outputs": [
    {
     "name": "stdout",
     "output_type": "stream",
     "text": [
      "input.weight torch.Size([32, 10])\n",
      "input.bias torch.Size([32])\n",
      "output.weight torch.Size([15, 32])\n",
      "output.bias torch.Size([15])\n"
     ]
    }
   ],
   "source": [
    "for name, value in model.named_parameters():\n",
    "    print(name, value.shape)"
   ]
  },
  {
   "cell_type": "markdown",
   "id": "0350f1cf",
   "metadata": {},
   "source": [
    "ReLU is does not contain any parameters here so it is merely a function."
   ]
  },
  {
   "cell_type": "markdown",
   "id": "fe54b5a8",
   "metadata": {},
   "source": [
    "### 1.2 Model Uncertainty\n",
    "\n"
   ]
  },
  {
   "cell_type": "markdown",
   "id": "937235cc",
   "metadata": {},
   "source": [
    "In which cases we want our model to be uncertain?\n",
    "\n",
    "* When it encounters a out-of-the-distribution data\n",
    "* When training data is noisy (irreducible/aleatoric uncertainty)\n",
    "* When we have multiple predictors (model/epistemic uncertainty)"
   ]
  }
 ],
 "metadata": {
  "kernelspec": {
   "display_name": "Python 3",
   "language": "python",
   "name": "python3"
  },
  "language_info": {
   "codemirror_mode": {
    "name": "ipython",
    "version": 3
   },
   "file_extension": ".py",
   "mimetype": "text/x-python",
   "name": "python",
   "nbconvert_exporter": "python",
   "pygments_lexer": "ipython3",
   "version": "3.8.12"
  }
 },
 "nbformat": 4,
 "nbformat_minor": 5
}
