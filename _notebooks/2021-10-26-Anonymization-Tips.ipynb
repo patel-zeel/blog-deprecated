{
 "cells": [
  {
   "cell_type": "markdown",
   "id": "41591ee3",
   "metadata": {},
   "source": [
    "# Anonymization tips for double-blind submission\n",
    "> A last-minute help list\n",
    "\n",
    "- toc: true   \n",
    "- badges: true   \n",
    "- comments: true   \n",
    "- author: Zeel B Patel   \n",
    "- categories: [Academic]"
   ]
  },
  {
   "cell_type": "markdown",
   "id": "bb922387",
   "metadata": {},
   "source": [
    "1. Use following command locally to search for author names, institute name and other terms you think may violate double-blind\n",
    "```shell\n",
    "git grep <query>\n",
    "```\n",
    "> Above command matches the query everywhere and thus a safe way. Avoid GitHub search for this purpose, it fails to identify some terms many times and there is no regex there (yet)!\n",
    "\n",
    "2. Do not use full paths inside README file. If you move content in other repo, the links will either become unusable or may violate double-blind. So follow the example below.\n",
    "\n",
    "* **Bad practice:** \\[link\\](https://github.com/patel-zeel/reponame/blob/master/dataset)        \n",
    "\n",
    "* **Good practive:** \\[link\\](dataset)\n",
    "\n",
    "3. Point no. 2 does not work for GitHub pages links (username.github.io/stuff). Thus, keep in mind to manually update those (if you have a better idea, let everyone know in comments below)\n",
    "\n",
    "4. Download the repo zip locally and create an anonymized repository in your anonymized GitHub account. Open the GitHub web editor by pressing \".\" (dot) at repo homepage. \n",
    "\n",
    "5. Now, you can select and drag all folders to the left pan of the web editor to upload them at once. Finally, commit with a meaningfull message and the changes will automatically be uploaded to the mail branch of your anonymized repo.\n",
    "\n",
    "6. Update the link in your manuscipt and submit !!"
   ]
  }
 ],
 "metadata": {
  "kernelspec": {
   "display_name": "Python 3",
   "language": "python",
   "name": "python3"
  },
  "language_info": {
   "codemirror_mode": {
    "name": "ipython",
    "version": 3
   },
   "file_extension": ".py",
   "mimetype": "text/x-python",
   "name": "python",
   "nbconvert_exporter": "python",
   "pygments_lexer": "ipython3",
   "version": "3.8.8"
  }
 },
 "nbformat": 4,
 "nbformat_minor": 5
}
